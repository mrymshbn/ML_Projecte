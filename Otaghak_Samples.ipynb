{
 "cells": [
  {
   "cell_type": "code",
   "execution_count": 36,
   "id": "001737fe",
   "metadata": {},
   "outputs": [],
   "source": [
    "import numpy as np\n",
    "import pandas as pd\n",
    "from matplotlib import pyplot as plt\n",
    "import seaborn as sns"
   ]
  },
  {
   "cell_type": "markdown",
   "id": "0ff4d3ea",
   "metadata": {},
   "source": [
    "## Otaghak_UserVerifications"
   ]
  },
  {
   "cell_type": "code",
   "execution_count": 3,
   "id": "d48329c1",
   "metadata": {},
   "outputs": [
    {
     "data": {
      "text/html": [
       "<div>\n",
       "<style scoped>\n",
       "    .dataframe tbody tr th:only-of-type {\n",
       "        vertical-align: middle;\n",
       "    }\n",
       "\n",
       "    .dataframe tbody tr th {\n",
       "        vertical-align: top;\n",
       "    }\n",
       "\n",
       "    .dataframe thead th {\n",
       "        text-align: right;\n",
       "    }\n",
       "</style>\n",
       "<table border=\"1\" class=\"dataframe\">\n",
       "  <thead>\n",
       "    <tr style=\"text-align: right;\">\n",
       "      <th></th>\n",
       "      <th>Id</th>\n",
       "      <th>CellPhoneNumber</th>\n",
       "      <th>VerificationCode</th>\n",
       "      <th>ExpirationTime</th>\n",
       "      <th>IpAddress</th>\n",
       "      <th>IsActive</th>\n",
       "      <th>CreatedOn</th>\n",
       "      <th>CreatedBy</th>\n",
       "      <th>UpdatedBy</th>\n",
       "      <th>UpdatedOn</th>\n",
       "      <th>VerifiedCode</th>\n",
       "    </tr>\n",
       "  </thead>\n",
       "  <tbody>\n",
       "    <tr>\n",
       "      <th>0</th>\n",
       "      <td>3857816</td>\n",
       "      <td>09392585403</td>\n",
       "      <td>373080</td>\n",
       "      <td>2024-03-20 13:07:53.4931412 +03:30</td>\n",
       "      <td>91.107.242.237</td>\n",
       "      <td>1</td>\n",
       "      <td>2024-03-20 13:06:53.4935648</td>\n",
       "      <td>0</td>\n",
       "      <td>NaN</td>\n",
       "      <td>NaN</td>\n",
       "      <td>0</td>\n",
       "    </tr>\n",
       "    <tr>\n",
       "      <th>1</th>\n",
       "      <td>2863689</td>\n",
       "      <td>09376688729</td>\n",
       "      <td>875415</td>\n",
       "      <td>2023-08-31 22:51:45.6745190 +03:30</td>\n",
       "      <td>89.47.155.122</td>\n",
       "      <td>1</td>\n",
       "      <td>2023-08-31 22:46:45.6748394</td>\n",
       "      <td>0</td>\n",
       "      <td>NaN</td>\n",
       "      <td>2023-08-31 22:46:59.0667270</td>\n",
       "      <td>1</td>\n",
       "    </tr>\n",
       "    <tr>\n",
       "      <th>2</th>\n",
       "      <td>2928355</td>\n",
       "      <td>09177662129</td>\n",
       "      <td>633242</td>\n",
       "      <td>2023-09-14 04:01:42.7349624 +03:30</td>\n",
       "      <td>5.213.29.225</td>\n",
       "      <td>1</td>\n",
       "      <td>2023-09-14 03:56:42.7354090</td>\n",
       "      <td>0</td>\n",
       "      <td>NaN</td>\n",
       "      <td>2023-09-14 03:57:35.0051316</td>\n",
       "      <td>1</td>\n",
       "    </tr>\n",
       "    <tr>\n",
       "      <th>3</th>\n",
       "      <td>1228801</td>\n",
       "      <td>09130529351</td>\n",
       "      <td>271971</td>\n",
       "      <td>2022-03-24 19:57:33.3911938 +04:30</td>\n",
       "      <td>5.120.210.133</td>\n",
       "      <td>1</td>\n",
       "      <td>2022-03-24 19:52:33.3918435</td>\n",
       "      <td>0</td>\n",
       "      <td>NaN</td>\n",
       "      <td>2022-03-24 19:52:49.0953210</td>\n",
       "      <td>1</td>\n",
       "    </tr>\n",
       "    <tr>\n",
       "      <th>4</th>\n",
       "      <td>463422</td>\n",
       "      <td>09120729013</td>\n",
       "      <td>615454</td>\n",
       "      <td>2021-03-21 23:17:52.6990508 +03:30</td>\n",
       "      <td>NaN</td>\n",
       "      <td>0</td>\n",
       "      <td>2021-03-21 23:12:52.6993729</td>\n",
       "      <td>0</td>\n",
       "      <td>NaN</td>\n",
       "      <td>2021-03-21 23:13:24.6846645</td>\n",
       "      <td>1</td>\n",
       "    </tr>\n",
       "  </tbody>\n",
       "</table>\n",
       "</div>"
      ],
      "text/plain": [
       "        Id CellPhoneNumber  VerificationCode  \\\n",
       "0  3857816     09392585403            373080   \n",
       "1  2863689     09376688729            875415   \n",
       "2  2928355     09177662129            633242   \n",
       "3  1228801     09130529351            271971   \n",
       "4   463422     09120729013            615454   \n",
       "\n",
       "                       ExpirationTime       IpAddress  IsActive  \\\n",
       "0  2024-03-20 13:07:53.4931412 +03:30  91.107.242.237         1   \n",
       "1  2023-08-31 22:51:45.6745190 +03:30   89.47.155.122         1   \n",
       "2  2023-09-14 04:01:42.7349624 +03:30    5.213.29.225         1   \n",
       "3  2022-03-24 19:57:33.3911938 +04:30   5.120.210.133         1   \n",
       "4  2021-03-21 23:17:52.6990508 +03:30             NaN         0   \n",
       "\n",
       "                     CreatedOn  CreatedBy  UpdatedBy  \\\n",
       "0  2024-03-20 13:06:53.4935648          0        NaN   \n",
       "1  2023-08-31 22:46:45.6748394          0        NaN   \n",
       "2  2023-09-14 03:56:42.7354090          0        NaN   \n",
       "3  2022-03-24 19:52:33.3918435          0        NaN   \n",
       "4  2021-03-21 23:12:52.6993729          0        NaN   \n",
       "\n",
       "                     UpdatedOn  VerifiedCode  \n",
       "0                          NaN             0  \n",
       "1  2023-08-31 22:46:59.0667270             1  \n",
       "2  2023-09-14 03:57:35.0051316             1  \n",
       "3  2022-03-24 19:52:49.0953210             1  \n",
       "4  2021-03-21 23:13:24.6846645             1  "
      ]
     },
     "execution_count": 3,
     "metadata": {},
     "output_type": "execute_result"
    }
   ],
   "source": [
    "# Load the specified CSV file\n",
    "file_path = 'Otaghak_Samples/Samples/Otaghak_UserVerifications.csv'\n",
    "user_verifications_df = pd.read_csv(file_path)"
   ]
  },
  {
   "cell_type": "code",
   "execution_count": 10,
   "id": "881c876b",
   "metadata": {},
   "outputs": [],
   "source": [
    "# df_array= np.array(user_verifications_df)"
   ]
  },
  {
   "cell_type": "code",
   "execution_count": 21,
   "id": "79480ca7",
   "metadata": {},
   "outputs": [],
   "source": [
    "df = user_verifications_df"
   ]
  },
  {
   "cell_type": "code",
   "execution_count": 22,
   "id": "6c536573",
   "metadata": {},
   "outputs": [
    {
     "data": {
      "text/plain": [
       "Id                    0\n",
       "CellPhoneNumber       0\n",
       "VerificationCode      0\n",
       "ExpirationTime        0\n",
       "IpAddress           161\n",
       "IsActive              0\n",
       "CreatedOn             0\n",
       "CreatedBy             0\n",
       "UpdatedBy           998\n",
       "UpdatedOn           563\n",
       "VerifiedCode          0\n",
       "dtype: int64"
      ]
     },
     "execution_count": 22,
     "metadata": {},
     "output_type": "execute_result"
    }
   ],
   "source": [
    "# missing values\n",
    "df.isnull().sum()"
   ]
  },
  {
   "cell_type": "code",
   "execution_count": 23,
   "id": "c71d60c7",
   "metadata": {
    "scrolled": true
   },
   "outputs": [
    {
     "data": {
      "text/plain": [
       "<bound method DataFrame.info of           Id CellPhoneNumber  VerificationCode  \\\n",
       "0    3857816     09392585403            373080   \n",
       "1    2863689     09376688729            875415   \n",
       "2    2928355     09177662129            633242   \n",
       "3    1228801     09130529351            271971   \n",
       "4     463422     09120729013            615454   \n",
       "..       ...             ...               ...   \n",
       "995  1062155     09367607525            228528   \n",
       "996  3678612     09011212782            325831   \n",
       "997  4196994     09376807381             56843   \n",
       "998  2734112     09104319304            792320   \n",
       "999    28309     09186126344            713435   \n",
       "\n",
       "                         ExpirationTime       IpAddress  IsActive  \\\n",
       "0    2024-03-20 13:07:53.4931412 +03:30  91.107.242.237         1   \n",
       "1    2023-08-31 22:51:45.6745190 +03:30   89.47.155.122         1   \n",
       "2    2023-09-14 04:01:42.7349624 +03:30    5.213.29.225         1   \n",
       "3    2022-03-24 19:57:33.3911938 +04:30   5.120.210.133         1   \n",
       "4    2021-03-21 23:17:52.6990508 +03:30             NaN         0   \n",
       "..                                  ...             ...       ...   \n",
       "995  2022-02-19 23:20:46.1792583 +03:30   5.235.201.121         1   \n",
       "996  2024-03-01 14:16:49.3960554 +03:30     5.117.66.40         1   \n",
       "997  2024-04-02 00:39:51.9723548 +03:30   5.127.167.152         1   \n",
       "998  2023-08-01 20:03:31.0739136 +03:30  185.155.54.152         1   \n",
       "999  2020-02-18 13:51:43.3988172 +03:30             NaN         1   \n",
       "\n",
       "                       CreatedOn  CreatedBy  UpdatedBy  \\\n",
       "0    2024-03-20 13:06:53.4935648          0        NaN   \n",
       "1    2023-08-31 22:46:45.6748394          0        NaN   \n",
       "2    2023-09-14 03:56:42.7354090          0        NaN   \n",
       "3    2022-03-24 19:52:33.3918435          0        NaN   \n",
       "4    2021-03-21 23:12:52.6993729          0        NaN   \n",
       "..                           ...        ...        ...   \n",
       "995  2022-02-19 23:15:46.1795613          0        NaN   \n",
       "996  2024-03-01 14:11:49.3964418          0        NaN   \n",
       "997  2024-04-02 00:38:51.9727401          0        NaN   \n",
       "998  2023-08-01 19:58:31.0742604          0        NaN   \n",
       "999  2020-02-18 13:51:13.3991362          0        NaN   \n",
       "\n",
       "                       UpdatedOn  VerifiedCode  \n",
       "0                            NaN             0  \n",
       "1    2023-08-31 22:46:59.0667270             1  \n",
       "2    2023-09-14 03:57:35.0051316             1  \n",
       "3    2022-03-24 19:52:49.0953210             1  \n",
       "4    2021-03-21 23:13:24.6846645             1  \n",
       "..                           ...           ...  \n",
       "995  2022-02-19 23:15:51.9935563             1  \n",
       "996  2024-03-01 14:12:02.0534489             1  \n",
       "997                          NaN             0  \n",
       "998                          NaN             0  \n",
       "999                          NaN             1  \n",
       "\n",
       "[1000 rows x 11 columns]>"
      ]
     },
     "execution_count": 23,
     "metadata": {},
     "output_type": "execute_result"
    }
   ],
   "source": [
    "df.info"
   ]
  },
  {
   "cell_type": "code",
   "execution_count": 24,
   "id": "21d5e03c",
   "metadata": {},
   "outputs": [
    {
     "data": {
      "text/plain": [
       "(1000, 11)"
      ]
     },
     "execution_count": 24,
     "metadata": {},
     "output_type": "execute_result"
    }
   ],
   "source": [
    "df.shape"
   ]
  },
  {
   "cell_type": "markdown",
   "id": "2c65bf50",
   "metadata": {},
   "source": [
    "df.describe"
   ]
  },
  {
   "cell_type": "code",
   "execution_count": 25,
   "id": "db67fb2c",
   "metadata": {},
   "outputs": [
    {
     "data": {
      "text/plain": [
       "Index(['Id', 'CellPhoneNumber', 'VerificationCode', 'ExpirationTime',\n",
       "       'IpAddress', 'IsActive', 'CreatedOn', 'CreatedBy', 'UpdatedBy',\n",
       "       'UpdatedOn', 'VerifiedCode'],\n",
       "      dtype='object')"
      ]
     },
     "execution_count": 25,
     "metadata": {},
     "output_type": "execute_result"
    }
   ],
   "source": [
    "df.columns"
   ]
  },
  {
   "cell_type": "markdown",
   "id": "191eeb74",
   "metadata": {},
   "source": [
    "# Marketing"
   ]
  },
  {
   "cell_type": "code",
   "execution_count": 31,
   "id": "74be3be2",
   "metadata": {},
   "outputs": [
    {
     "data": {
      "text/html": [
       "<div>\n",
       "<style scoped>\n",
       "    .dataframe tbody tr th:only-of-type {\n",
       "        vertical-align: middle;\n",
       "    }\n",
       "\n",
       "    .dataframe tbody tr th {\n",
       "        vertical-align: top;\n",
       "    }\n",
       "\n",
       "    .dataframe thead th {\n",
       "        text-align: right;\n",
       "    }\n",
       "</style>\n",
       "<table border=\"1\" class=\"dataframe\">\n",
       "  <thead>\n",
       "    <tr style=\"text-align: right;\">\n",
       "      <th></th>\n",
       "      <th>Id</th>\n",
       "      <th>CellPhoneNumber</th>\n",
       "      <th>VerificationCode</th>\n",
       "      <th>ExpirationTime</th>\n",
       "      <th>IpAddress</th>\n",
       "      <th>IsActive</th>\n",
       "      <th>CreatedOn</th>\n",
       "      <th>CreatedBy</th>\n",
       "      <th>UpdatedBy</th>\n",
       "      <th>UpdatedOn</th>\n",
       "      <th>VerifiedCode</th>\n",
       "    </tr>\n",
       "  </thead>\n",
       "  <tbody>\n",
       "    <tr>\n",
       "      <th>0</th>\n",
       "      <td>3857816</td>\n",
       "      <td>09392585403</td>\n",
       "      <td>373080</td>\n",
       "      <td>2024-03-20 13:07:53.493141+03:30</td>\n",
       "      <td>91.107.242.237</td>\n",
       "      <td>1</td>\n",
       "      <td>2024-03-20 13:06:53.493564800</td>\n",
       "      <td>0</td>\n",
       "      <td>NaN</td>\n",
       "      <td>NaN</td>\n",
       "      <td>0</td>\n",
       "    </tr>\n",
       "    <tr>\n",
       "      <th>1</th>\n",
       "      <td>2863689</td>\n",
       "      <td>09376688729</td>\n",
       "      <td>875415</td>\n",
       "      <td>2023-08-31 22:51:45.674519+03:30</td>\n",
       "      <td>89.47.155.122</td>\n",
       "      <td>1</td>\n",
       "      <td>2023-08-31 22:46:45.674839400</td>\n",
       "      <td>0</td>\n",
       "      <td>NaN</td>\n",
       "      <td>2023-08-31 22:46:59.0667270</td>\n",
       "      <td>1</td>\n",
       "    </tr>\n",
       "    <tr>\n",
       "      <th>2</th>\n",
       "      <td>2928355</td>\n",
       "      <td>09177662129</td>\n",
       "      <td>633242</td>\n",
       "      <td>2023-09-14 04:01:42.734962+03:30</td>\n",
       "      <td>5.213.29.225</td>\n",
       "      <td>1</td>\n",
       "      <td>2023-09-14 03:56:42.735409000</td>\n",
       "      <td>0</td>\n",
       "      <td>NaN</td>\n",
       "      <td>2023-09-14 03:57:35.0051316</td>\n",
       "      <td>1</td>\n",
       "    </tr>\n",
       "    <tr>\n",
       "      <th>3</th>\n",
       "      <td>1228801</td>\n",
       "      <td>09130529351</td>\n",
       "      <td>271971</td>\n",
       "      <td>2022-03-24 19:57:33.391193+04:30</td>\n",
       "      <td>5.120.210.133</td>\n",
       "      <td>1</td>\n",
       "      <td>2022-03-24 19:52:33.391843500</td>\n",
       "      <td>0</td>\n",
       "      <td>NaN</td>\n",
       "      <td>2022-03-24 19:52:49.0953210</td>\n",
       "      <td>1</td>\n",
       "    </tr>\n",
       "    <tr>\n",
       "      <th>4</th>\n",
       "      <td>463422</td>\n",
       "      <td>09120729013</td>\n",
       "      <td>615454</td>\n",
       "      <td>2021-03-21 23:17:52.699050+03:30</td>\n",
       "      <td>NaN</td>\n",
       "      <td>0</td>\n",
       "      <td>2021-03-21 23:12:52.699372900</td>\n",
       "      <td>0</td>\n",
       "      <td>NaN</td>\n",
       "      <td>2021-03-21 23:13:24.6846645</td>\n",
       "      <td>1</td>\n",
       "    </tr>\n",
       "  </tbody>\n",
       "</table>\n",
       "</div>"
      ],
      "text/plain": [
       "        Id CellPhoneNumber  VerificationCode  \\\n",
       "0  3857816     09392585403            373080   \n",
       "1  2863689     09376688729            875415   \n",
       "2  2928355     09177662129            633242   \n",
       "3  1228801     09130529351            271971   \n",
       "4   463422     09120729013            615454   \n",
       "\n",
       "                     ExpirationTime       IpAddress  IsActive  \\\n",
       "0  2024-03-20 13:07:53.493141+03:30  91.107.242.237         1   \n",
       "1  2023-08-31 22:51:45.674519+03:30   89.47.155.122         1   \n",
       "2  2023-09-14 04:01:42.734962+03:30    5.213.29.225         1   \n",
       "3  2022-03-24 19:57:33.391193+04:30   5.120.210.133         1   \n",
       "4  2021-03-21 23:17:52.699050+03:30             NaN         0   \n",
       "\n",
       "                      CreatedOn  CreatedBy  UpdatedBy  \\\n",
       "0 2024-03-20 13:06:53.493564800          0        NaN   \n",
       "1 2023-08-31 22:46:45.674839400          0        NaN   \n",
       "2 2023-09-14 03:56:42.735409000          0        NaN   \n",
       "3 2022-03-24 19:52:33.391843500          0        NaN   \n",
       "4 2021-03-21 23:12:52.699372900          0        NaN   \n",
       "\n",
       "                     UpdatedOn  VerifiedCode  \n",
       "0                          NaN             0  \n",
       "1  2023-08-31 22:46:59.0667270             1  \n",
       "2  2023-09-14 03:57:35.0051316             1  \n",
       "3  2022-03-24 19:52:49.0953210             1  \n",
       "4  2021-03-21 23:13:24.6846645             1  "
      ]
     },
     "execution_count": 31,
     "metadata": {},
     "output_type": "execute_result"
    }
   ],
   "source": [
    "# Display the first few rows of the dataframe to understand its structure\n",
    "df.head(5)"
   ]
  },
  {
   "cell_type": "code",
   "execution_count": 33,
   "id": "05522842",
   "metadata": {},
   "outputs": [
    {
     "data": {
      "text/html": [
       "<div>\n",
       "<style scoped>\n",
       "    .dataframe tbody tr th:only-of-type {\n",
       "        vertical-align: middle;\n",
       "    }\n",
       "\n",
       "    .dataframe tbody tr th {\n",
       "        vertical-align: top;\n",
       "    }\n",
       "\n",
       "    .dataframe thead th {\n",
       "        text-align: right;\n",
       "    }\n",
       "</style>\n",
       "<table border=\"1\" class=\"dataframe\">\n",
       "  <thead>\n",
       "    <tr style=\"text-align: right;\">\n",
       "      <th></th>\n",
       "      <th>CellPhoneNumber</th>\n",
       "      <th>VerificationCode</th>\n",
       "      <th>ExpirationTime</th>\n",
       "      <th>IpAddress</th>\n",
       "      <th>IsActive</th>\n",
       "      <th>CreatedOn</th>\n",
       "      <th>UpdatedOn</th>\n",
       "    </tr>\n",
       "  </thead>\n",
       "  <tbody>\n",
       "    <tr>\n",
       "      <th>0</th>\n",
       "      <td>09392585403</td>\n",
       "      <td>373080</td>\n",
       "      <td>2024-03-20 13:07:53.493141+03:30</td>\n",
       "      <td>91.107.242.237</td>\n",
       "      <td>1</td>\n",
       "      <td>2024-03-20 13:06:53.493564800</td>\n",
       "      <td>NaN</td>\n",
       "    </tr>\n",
       "    <tr>\n",
       "      <th>1</th>\n",
       "      <td>09376688729</td>\n",
       "      <td>875415</td>\n",
       "      <td>2023-08-31 22:51:45.674519+03:30</td>\n",
       "      <td>89.47.155.122</td>\n",
       "      <td>1</td>\n",
       "      <td>2023-08-31 22:46:45.674839400</td>\n",
       "      <td>2023-08-31 22:46:59.0667270</td>\n",
       "    </tr>\n",
       "    <tr>\n",
       "      <th>2</th>\n",
       "      <td>09177662129</td>\n",
       "      <td>633242</td>\n",
       "      <td>2023-09-14 04:01:42.734962+03:30</td>\n",
       "      <td>5.213.29.225</td>\n",
       "      <td>1</td>\n",
       "      <td>2023-09-14 03:56:42.735409000</td>\n",
       "      <td>2023-09-14 03:57:35.0051316</td>\n",
       "    </tr>\n",
       "    <tr>\n",
       "      <th>3</th>\n",
       "      <td>09130529351</td>\n",
       "      <td>271971</td>\n",
       "      <td>2022-03-24 19:57:33.391193+04:30</td>\n",
       "      <td>5.120.210.133</td>\n",
       "      <td>1</td>\n",
       "      <td>2022-03-24 19:52:33.391843500</td>\n",
       "      <td>2022-03-24 19:52:49.0953210</td>\n",
       "    </tr>\n",
       "    <tr>\n",
       "      <th>4</th>\n",
       "      <td>09120729013</td>\n",
       "      <td>615454</td>\n",
       "      <td>2021-03-21 23:17:52.699050+03:30</td>\n",
       "      <td>NaN</td>\n",
       "      <td>0</td>\n",
       "      <td>2021-03-21 23:12:52.699372900</td>\n",
       "      <td>2021-03-21 23:13:24.6846645</td>\n",
       "    </tr>\n",
       "    <tr>\n",
       "      <th>...</th>\n",
       "      <td>...</td>\n",
       "      <td>...</td>\n",
       "      <td>...</td>\n",
       "      <td>...</td>\n",
       "      <td>...</td>\n",
       "      <td>...</td>\n",
       "      <td>...</td>\n",
       "    </tr>\n",
       "    <tr>\n",
       "      <th>995</th>\n",
       "      <td>09367607525</td>\n",
       "      <td>228528</td>\n",
       "      <td>2022-02-19 23:20:46.179258+03:30</td>\n",
       "      <td>5.235.201.121</td>\n",
       "      <td>1</td>\n",
       "      <td>2022-02-19 23:15:46.179561300</td>\n",
       "      <td>2022-02-19 23:15:51.9935563</td>\n",
       "    </tr>\n",
       "    <tr>\n",
       "      <th>996</th>\n",
       "      <td>09011212782</td>\n",
       "      <td>325831</td>\n",
       "      <td>2024-03-01 14:16:49.396055+03:30</td>\n",
       "      <td>5.117.66.40</td>\n",
       "      <td>1</td>\n",
       "      <td>2024-03-01 14:11:49.396441800</td>\n",
       "      <td>2024-03-01 14:12:02.0534489</td>\n",
       "    </tr>\n",
       "    <tr>\n",
       "      <th>997</th>\n",
       "      <td>09376807381</td>\n",
       "      <td>56843</td>\n",
       "      <td>2024-04-02 00:39:51.972354+03:30</td>\n",
       "      <td>5.127.167.152</td>\n",
       "      <td>1</td>\n",
       "      <td>2024-04-02 00:38:51.972740100</td>\n",
       "      <td>NaN</td>\n",
       "    </tr>\n",
       "    <tr>\n",
       "      <th>998</th>\n",
       "      <td>09104319304</td>\n",
       "      <td>792320</td>\n",
       "      <td>2023-08-01 20:03:31.073913+03:30</td>\n",
       "      <td>185.155.54.152</td>\n",
       "      <td>1</td>\n",
       "      <td>2023-08-01 19:58:31.074260400</td>\n",
       "      <td>NaN</td>\n",
       "    </tr>\n",
       "    <tr>\n",
       "      <th>999</th>\n",
       "      <td>09186126344</td>\n",
       "      <td>713435</td>\n",
       "      <td>2020-02-18 13:51:43.398817+03:30</td>\n",
       "      <td>NaN</td>\n",
       "      <td>1</td>\n",
       "      <td>2020-02-18 13:51:13.399136200</td>\n",
       "      <td>NaN</td>\n",
       "    </tr>\n",
       "  </tbody>\n",
       "</table>\n",
       "<p>1000 rows × 7 columns</p>\n",
       "</div>"
      ],
      "text/plain": [
       "    CellPhoneNumber  VerificationCode                    ExpirationTime  \\\n",
       "0       09392585403            373080  2024-03-20 13:07:53.493141+03:30   \n",
       "1       09376688729            875415  2023-08-31 22:51:45.674519+03:30   \n",
       "2       09177662129            633242  2023-09-14 04:01:42.734962+03:30   \n",
       "3       09130529351            271971  2022-03-24 19:57:33.391193+04:30   \n",
       "4       09120729013            615454  2021-03-21 23:17:52.699050+03:30   \n",
       "..              ...               ...                               ...   \n",
       "995     09367607525            228528  2022-02-19 23:20:46.179258+03:30   \n",
       "996     09011212782            325831  2024-03-01 14:16:49.396055+03:30   \n",
       "997     09376807381             56843  2024-04-02 00:39:51.972354+03:30   \n",
       "998     09104319304            792320  2023-08-01 20:03:31.073913+03:30   \n",
       "999     09186126344            713435  2020-02-18 13:51:43.398817+03:30   \n",
       "\n",
       "          IpAddress  IsActive                     CreatedOn  \\\n",
       "0    91.107.242.237         1 2024-03-20 13:06:53.493564800   \n",
       "1     89.47.155.122         1 2023-08-31 22:46:45.674839400   \n",
       "2      5.213.29.225         1 2023-09-14 03:56:42.735409000   \n",
       "3     5.120.210.133         1 2022-03-24 19:52:33.391843500   \n",
       "4               NaN         0 2021-03-21 23:12:52.699372900   \n",
       "..              ...       ...                           ...   \n",
       "995   5.235.201.121         1 2022-02-19 23:15:46.179561300   \n",
       "996     5.117.66.40         1 2024-03-01 14:11:49.396441800   \n",
       "997   5.127.167.152         1 2024-04-02 00:38:51.972740100   \n",
       "998  185.155.54.152         1 2023-08-01 19:58:31.074260400   \n",
       "999             NaN         1 2020-02-18 13:51:13.399136200   \n",
       "\n",
       "                       UpdatedOn  \n",
       "0                            NaN  \n",
       "1    2023-08-31 22:46:59.0667270  \n",
       "2    2023-09-14 03:57:35.0051316  \n",
       "3    2022-03-24 19:52:49.0953210  \n",
       "4    2021-03-21 23:13:24.6846645  \n",
       "..                           ...  \n",
       "995  2022-02-19 23:15:51.9935563  \n",
       "996  2024-03-01 14:12:02.0534489  \n",
       "997                          NaN  \n",
       "998                          NaN  \n",
       "999                          NaN  \n",
       "\n",
       "[1000 rows x 7 columns]"
      ]
     },
     "execution_count": 33,
     "metadata": {},
     "output_type": "execute_result"
    }
   ],
   "source": [
    "# Drop \n",
    "df.drop(columns=['Id','CreatedBy','UpdatedBy','VerifiedCode'])"
   ]
  },
  {
   "cell_type": "code",
   "execution_count": 34,
   "id": "eca1ccd1",
   "metadata": {},
   "outputs": [
    {
     "data": {
      "text/plain": [
       "Index(['Id', 'CellPhoneNumber', 'VerificationCode', 'ExpirationTime',\n",
       "       'IpAddress', 'IsActive', 'CreatedOn', 'CreatedBy', 'UpdatedBy',\n",
       "       'UpdatedOn', 'VerifiedCode'],\n",
       "      dtype='object')"
      ]
     },
     "execution_count": 34,
     "metadata": {},
     "output_type": "execute_result"
    }
   ],
   "source": [
    "df.columns"
   ]
  },
  {
   "cell_type": "code",
   "execution_count": 42,
   "id": "235b871f",
   "metadata": {},
   "outputs": [
    {
     "name": "stdout",
     "output_type": "stream",
     "text": [
      "1    910\n",
      "0     90\n",
      "Name: IsActive, dtype: int64\n"
     ]
    }
   ],
   "source": [
    "# Distribution of active and passive authentication codes\n",
    "is_active_counts  =  df['IsActive'].value_counts()\n",
    "print(is_active_counts)"
   ]
  },
  {
   "cell_type": "code",
   "execution_count": 43,
   "id": "d3735dd3",
   "metadata": {},
   "outputs": [
    {
     "data": {
      "image/png": "[encoded data removed]",
      "text/plain": [
       "<Figure size 432x288 with 1 Axes>"
      ]
     },
     "metadata": {
      "needs_background": "light"
     },
     "output_type": "display_data"
    }
   ],
   "source": [
    "df.groupby('IsActive').size().plot(kind='barh', color=sns.palettes.mpl_palette('Dark2'))\n",
    "plt.gca().spines[['top', 'right',]].set_visible(False)\n",
    "plt.savefig('IsActive.png')"
   ]
  },
  {
   "cell_type": "code",
   "execution_count": 47,
   "id": "213e9a25",
   "metadata": {},
   "outputs": [
    {
     "data": {
      "image/png": "[encoded data removed]",
      "text/plain": [
       "<Figure size 360x216 with 1 Axes>"
      ]
     },
     "metadata": {
      "needs_background": "light"
     },
     "output_type": "display_data"
    }
   ],
   "source": [
    "#   Scatter Plot\n",
    "plt.figure(figsize=(5, 3))\n",
    "plt.scatter(is_active_counts.index, is_active_counts.values, color='blue')\n",
    "plt.xlabel('IsActive')\n",
    "plt.ylabel('Count')\n",
    "plt.title('Scatter Plot of IsActive Counts')\n",
    "plt.grid(True)\n",
    "plt.show()\n"
   ]
  },
  {
   "cell_type": "code",
   "execution_count": 49,
   "id": "4ab1de57",
   "metadata": {},
   "outputs": [
    {
     "data": {
      "image/png": "[encoded data removed]",
      "text/plain": [
       "<Figure size 432x432 with 1 Axes>"
      ]
     },
     "metadata": {},
     "output_type": "display_data"
    }
   ],
   "source": [
    "labels = ['IsActive = 0', 'IsActive = 1']\n",
    "sizes = [90, 910]\n",
    "colors = ['lightcoral', 'lightskyblue']\n",
    "explode = (0.1, 0)  # Highlighting the first piece\n",
    "\n",
    "# Plot\n",
    "plt.figure(figsize=(6, 6))\n",
    "plt.pie(sizes, explode=explode, labels=labels, colors=colors, autopct='%1.1f%%', shadow=True, startangle=140)\n",
    "\n",
    "plt.axis('equal')  # Balancing the chart as a circle\n",
    "\n",
    "plt.title('Distribution of IsActive')\n",
    "plt.show()\n"
   ]
  },
  {
   "cell_type": "code",
   "execution_count": null,
   "id": "206f2cc6",
   "metadata": {},
   "outputs": [],
   "source": []
  }
 ],
 "metadata": {
  "kernelspec": {
   "display_name": "Python 3 (ipykernel)",
   "language": "python",
   "name": "python3"
  },
  "language_info": {
   "codemirror_mode": {
    "name": "ipython",
    "version": 3
   },
   "file_extension": ".py",
   "mimetype": "text/x-python",
   "name": "python",
   "nbconvert_exporter": "python",
   "pygments_lexer": "ipython3",
   "version": "3.10.9"
  }
 },
 "nbformat": 4,
 "nbformat_minor": 5
}
